{
 "cells": [
  {
   "cell_type": "markdown",
   "id": "5fc865f9-f286-485a-8505-698978d5068f",
   "metadata": {
    "tags": []
   },
   "source": [
    "# Lets try with only a few sequences to visualize it in jbrowse"
   ]
  },
  {
   "cell_type": "code",
   "execution_count": 1,
   "id": "f9dff43e-6ad3-4ccf-87db-7396db214f12",
   "metadata": {},
   "outputs": [
    {
     "name": "stdout",
     "output_type": "stream",
     "text": [
      "\u001b[?2004h"
     ]
    },
    {
     "ename": "",
     "evalue": "1",
     "output_type": "error",
     "traceback": []
    }
   ],
   "source": [
    "cd jbrowse"
   ]
  },
  {
   "cell_type": "code",
   "execution_count": 2,
   "id": "aac530c7-ebd6-4726-a100-4f23b03190c7",
   "metadata": {},
   "outputs": [
    {
     "name": "stdout",
     "output_type": "stream",
     "text": [
      "Fetching https://github.com/GMOD/jbrowse-components/releases/download/v2.1.0/jbrowse-web-v2.1.0.zip...\n",
      "Unpacked https://github.com/GMOD/jbrowse-components/releases/download/v2.1.0/jbrowse-web-v2.1.0.zip at testing_8_4_22\n",
      "\u001b[?2004h"
     ]
    },
    {
     "ename": "",
     "evalue": "1",
     "output_type": "error",
     "traceback": []
    }
   ],
   "source": [
    "jbrowse create testing_8_4_22"
   ]
  },
  {
   "cell_type": "code",
   "execution_count": 3,
   "id": "bbe81ad7-bc1e-4d83-9335-2c9686874c3b",
   "metadata": {},
   "outputs": [
    {
     "name": "stdout",
     "output_type": "stream",
     "text": [
      "\u001b[?2004h\u001b[?2004l\u001b[?2004l"
     ]
    },
    {
     "ename": "",
     "evalue": "1",
     "output_type": "error",
     "traceback": []
    }
   ],
   "source": [
    "cp ../annotated_genomes/real_loop/MPXV_1968_Paris.fasta .\\\n",
    " && cp ../annotated_genomes/real_loop/MPXV_1968_Paris.fasta.fai .\\\n",
    " && cp ../annotated_genomes/real_loop/MPXV_1968_Paris.gff . "
   ]
  },
  {
   "cell_type": "code",
   "execution_count": 4,
   "id": "de05e4fb-2da1-4853-8c53-0409ee1a8596",
   "metadata": {},
   "outputs": [
    {
     "name": "stdout",
     "output_type": "stream",
     "text": [
      "\u001b[?2004h\u001b[?2004l\u001b[?2004l"
     ]
    },
    {
     "ename": "",
     "evalue": "1",
     "output_type": "error",
     "traceback": []
    }
   ],
   "source": [
    "cp ../annotated_genomes/real_loop/MPXV_1970_Libera.fasta .\\\n",
    " && cp ../annotated_genomes/real_loop/MPXV_1970_Libera.fasta.fai .\\\n",
    " && cp ../annotated_genomes/real_loop/MPXV_1970_Libera.gff . "
   ]
  },
  {
   "cell_type": "code",
   "execution_count": 5,
   "id": "6fca4793-266b-4cbb-add4-6e7069780371",
   "metadata": {},
   "outputs": [
    {
     "name": "stdout",
     "output_type": "stream",
     "text": [
      "\u001b[?2004h"
     ]
    },
    {
     "ename": "",
     "evalue": "1",
     "output_type": "error",
     "traceback": []
    }
   ],
   "source": [
    "mv *.fasta testing_8_4_22"
   ]
  },
  {
   "cell_type": "code",
   "execution_count": 6,
   "id": "d8c5ebb1-b167-4d9d-abfd-2c889f7e9d69",
   "metadata": {},
   "outputs": [
    {
     "name": "stdout",
     "output_type": "stream",
     "text": [
      "\u001b[?2004h"
     ]
    },
    {
     "ename": "",
     "evalue": "1",
     "output_type": "error",
     "traceback": []
    }
   ],
   "source": [
    "mv *.fai testing_8_4_22"
   ]
  },
  {
   "cell_type": "code",
   "execution_count": 7,
   "id": "f06a1ac7-8236-4106-b07f-52d9314b1a38",
   "metadata": {},
   "outputs": [
    {
     "name": "stdout",
     "output_type": "stream",
     "text": [
      "\u001b[?2004h"
     ]
    },
    {
     "ename": "",
     "evalue": "1",
     "output_type": "error",
     "traceback": []
    }
   ],
   "source": [
    "mv *.gff testing_8_4_22"
   ]
  },
  {
   "cell_type": "code",
   "execution_count": 8,
   "id": "9650b89f-dae2-417e-b6b4-65b3db0a01b9",
   "metadata": {},
   "outputs": [
    {
     "name": "stdout",
     "output_type": "stream",
     "text": [
      "\u001b[?2004h"
     ]
    },
    {
     "ename": "",
     "evalue": "1",
     "output_type": "error",
     "traceback": []
    }
   ],
   "source": [
    "cd testing_8_4_22"
   ]
  },
  {
   "cell_type": "code",
   "execution_count": 9,
   "id": "446bdd7b-de18-4595-8c7f-e77d257d42ce",
   "metadata": {},
   "outputs": [
    {
     "name": "stdout",
     "output_type": "stream",
     "text": [
      "Added assembly \"MPXV_1968_Paris\" to ./config.json\n",
      "Added assembly \"MPXV_1970_Libera\" to ./config.json\n",
      "\u001b[?2004h"
     ]
    },
    {
     "ename": "",
     "evalue": "1",
     "output_type": "error",
     "traceback": []
    }
   ],
   "source": [
    "for genomes in *.fasta\n",
    "  do\n",
    "  jbrowse add-assembly $genomes --out . --load inPlace\n",
    "  done"
   ]
  },
  {
   "cell_type": "code",
   "execution_count": 10,
   "id": "e21d1273-7b90-4c42-b553-252657f00d99",
   "metadata": {},
   "outputs": [
    {
     "name": "stdout",
     "output_type": "stream",
     "text": [
      "\u001b[?2004h(genometools) "
     ]
    },
    {
     "ename": "",
     "evalue": "1",
     "output_type": "error",
     "traceback": []
    }
   ],
   "source": [
    "conda activate genometools"
   ]
  },
  {
   "cell_type": "code",
   "execution_count": 11,
   "id": "d2aa213c-cc46-4827-9127-a5ffd85b6d27",
   "metadata": {},
   "outputs": [
    {
     "name": "stdout",
     "output_type": "stream",
     "text": [
      "warning: seqid \"KJ642616.1\" on line 4 in file \"MPXV_1968_Paris.gff\" has not been previously introduced with a \"##sequence-region\" line, create such a line automatically\n",
      "warning: CDS feature on line 5 in file \"MPXV_1968_Paris.gff\" has the wrong phase . -> correcting it to 0\n",
      "warning: CDS feature on line 7 in file \"MPXV_1968_Paris.gff\" has the wrong phase . -> correcting it to 0\n",
      "warning: CDS feature on line 9 in file \"MPXV_1968_Paris.gff\" has the wrong phase . -> correcting it to 0\n",
      "warning: CDS feature on line 11 in file \"MPXV_1968_Paris.gff\" has the wrong phase . -> correcting it to 0\n",
      "warning: CDS feature on line 13 in file \"MPXV_1968_Paris.gff\" has the wrong phase . -> correcting it to 0\n",
      "warning: CDS feature on line 15 in file \"MPXV_1968_Paris.gff\" has the wrong phase . -> correcting it to 0\n",
      "warning: CDS feature on line 17 in file \"MPXV_1968_Paris.gff\" has the wrong phase . -> correcting it to 0\n",
      "warning: CDS feature on line 19 in file \"MPXV_1968_Paris.gff\" has the wrong phase . -> correcting it to 0\n",
      "warning: CDS feature on line 21 in file \"MPXV_1968_Paris.gff\" has the wrong phase . -> correcting it to 0\n",
      "warning: CDS feature on line 23 in file \"MPXV_1968_Paris.gff\" has the wrong phase . -> correcting it to 0\n",
      "warning: CDS feature on line 25 in file \"MPXV_1968_Paris.gff\" has the wrong phase . -> correcting it to 0\n",
      "warning: CDS feature on line 27 in file \"MPXV_1968_Paris.gff\" has the wrong phase . -> correcting it to 0\n",
      "warning: CDS feature on line 29 in file \"MPXV_1968_Paris.gff\" has the wrong phase . -> correcting it to 0\n",
      "warning: CDS feature on line 31 in file \"MPXV_1968_Paris.gff\" has the wrong phase . -> correcting it to 0\n",
      "warning: CDS feature on line 33 in file \"MPXV_1968_Paris.gff\" has the wrong phase . -> correcting it to 0\n",
      "warning: CDS feature on line 35 in file \"MPXV_1968_Paris.gff\" has the wrong phase . -> correcting it to 0\n",
      "warning: CDS feature on line 37 in file \"MPXV_1968_Paris.gff\" has the wrong phase . -> correcting it to 0\n",
      "warning: CDS feature on line 39 in file \"MPXV_1968_Paris.gff\" has the wrong phase . -> correcting it to 0\n",
      "warning: CDS feature on line 41 in file \"MPXV_1968_Paris.gff\" has the wrong phase . -> correcting it to 0\n",
      "warning: CDS feature on line 43 in file \"MPXV_1968_Paris.gff\" has the wrong phase . -> correcting it to 0\n",
      "warning: CDS feature on line 45 in file \"MPXV_1968_Paris.gff\" has the wrong phase . -> correcting it to 0\n",
      "warning: CDS feature on line 47 in file \"MPXV_1968_Paris.gff\" has the wrong phase . -> correcting it to 0\n",
      "warning: CDS feature on line 49 in file \"MPXV_1968_Paris.gff\" has the wrong phase . -> correcting it to 0\n",
      "warning: CDS feature on line 51 in file \"MPXV_1968_Paris.gff\" has the wrong phase . -> correcting it to 0\n",
      "warning: CDS feature on line 53 in file \"MPXV_1968_Paris.gff\" has the wrong phase . -> correcting it to 0\n",
      "warning: CDS feature on line 55 in file \"MPXV_1968_Paris.gff\" has the wrong phase . -> correcting it to 0\n",
      "warning: CDS feature on line 57 in file \"MPXV_1968_Paris.gff\" has the wrong phase . -> correcting it to 0\n",
      "warning: CDS feature on line 59 in file \"MPXV_1968_Paris.gff\" has the wrong phase . -> correcting it to 0\n",
      "warning: CDS feature on line 61 in file \"MPXV_1968_Paris.gff\" has the wrong phase . -> correcting it to 0\n",
      "warning: CDS feature on line 63 in file \"MPXV_1968_Paris.gff\" has the wrong phase . -> correcting it to 0\n",
      "warning: CDS feature on line 65 in file \"MPXV_1968_Paris.gff\" has the wrong phase . -> correcting it to 0\n",
      "warning: CDS feature on line 67 in file \"MPXV_1968_Paris.gff\" has the wrong phase . -> correcting it to 0\n",
      "warning: CDS feature on line 69 in file \"MPXV_1968_Paris.gff\" has the wrong phase . -> correcting it to 0\n",
      "warning: CDS feature on line 71 in file \"MPXV_1968_Paris.gff\" has the wrong phase . -> correcting it to 0\n",
      "warning: CDS feature on line 73 in file \"MPXV_1968_Paris.gff\" has the wrong phase . -> correcting it to 0\n",
      "warning: CDS feature on line 75 in file \"MPXV_1968_Paris.gff\" has the wrong phase . -> correcting it to 0\n",
      "warning: CDS feature on line 77 in file \"MPXV_1968_Paris.gff\" has the wrong phase . -> correcting it to 0\n",
      "warning: CDS feature on line 79 in file \"MPXV_1968_Paris.gff\" has the wrong phase . -> correcting it to 0\n",
      "warning: CDS feature on line 81 in file \"MPXV_1968_Paris.gff\" has the wrong phase . -> correcting it to 0\n",
      "warning: CDS feature on line 83 in file \"MPXV_1968_Paris.gff\" has the wrong phase . -> correcting it to 0\n",
      "warning: CDS feature on line 85 in file \"MPXV_1968_Paris.gff\" has the wrong phase . -> correcting it to 0\n",
      "warning: CDS feature on line 87 in file \"MPXV_1968_Paris.gff\" has the wrong phase . -> correcting it to 0\n",
      "warning: CDS feature on line 89 in file \"MPXV_1968_Paris.gff\" has the wrong phase . -> correcting it to 0\n",
      "warning: CDS feature on line 91 in file \"MPXV_1968_Paris.gff\" has the wrong phase . -> correcting it to 0\n",
      "warning: CDS feature on line 93 in file \"MPXV_1968_Paris.gff\" has the wrong phase . -> correcting it to 0\n",
      "warning: CDS feature on line 95 in file \"MPXV_1968_Paris.gff\" has the wrong phase . -> correcting it to 0\n",
      "warning: CDS feature on line 97 in file \"MPXV_1968_Paris.gff\" has the wrong phase . -> correcting it to 0\n",
      "warning: CDS feature on line 99 in file \"MPXV_1968_Paris.gff\" has the wrong phase . -> correcting it to 0\n",
      "warning: CDS feature on line 101 in file \"MPXV_1968_Paris.gff\" has the wrong phase . -> correcting it to 0\n",
      "warning: CDS feature on line 103 in file \"MPXV_1968_Paris.gff\" has the wrong phase . -> correcting it to 0\n",
      "warning: CDS feature on line 105 in file \"MPXV_1968_Paris.gff\" has the wrong phase . -> correcting it to 0\n",
      "warning: CDS feature on line 107 in file \"MPXV_1968_Paris.gff\" has the wrong phase . -> correcting it to 0\n",
      "warning: CDS feature on line 109 in file \"MPXV_1968_Paris.gff\" has the wrong phase . -> correcting it to 0\n",
      "warning: CDS feature on line 111 in file \"MPXV_1968_Paris.gff\" has the wrong phase . -> correcting it to 0\n",
      "warning: CDS feature on line 113 in file \"MPXV_1968_Paris.gff\" has the wrong phase . -> correcting it to 0\n",
      "warning: CDS feature on line 115 in file \"MPXV_1968_Paris.gff\" has the wrong phase . -> correcting it to 0\n",
      "warning: CDS feature on line 117 in file \"MPXV_1968_Paris.gff\" has the wrong phase . -> correcting it to 0\n",
      "warning: CDS feature on line 119 in file \"MPXV_1968_Paris.gff\" has the wrong phase . -> correcting it to 0\n",
      "warning: CDS feature on line 121 in file \"MPXV_1968_Paris.gff\" has the wrong phase . -> correcting it to 0\n",
      "warning: CDS feature on line 123 in file \"MPXV_1968_Paris.gff\" has the wrong phase . -> correcting it to 0\n",
      "warning: CDS feature on line 125 in file \"MPXV_1968_Paris.gff\" has the wrong phase . -> correcting it to 0\n",
      "warning: CDS feature on line 127 in file \"MPXV_1968_Paris.gff\" has the wrong phase . -> correcting it to 0\n",
      "warning: CDS feature on line 129 in file \"MPXV_1968_Paris.gff\" has the wrong phase . -> correcting it to 0\n",
      "warning: CDS feature on line 131 in file \"MPXV_1968_Paris.gff\" has the wrong phase . -> correcting it to 0\n",
      "warning: CDS feature on line 133 in file \"MPXV_1968_Paris.gff\" has the wrong phase . -> correcting it to 0\n",
      "warning: CDS feature on line 135 in file \"MPXV_1968_Paris.gff\" has the wrong phase . -> correcting it to 0\n",
      "warning: CDS feature on line 137 in file \"MPXV_1968_Paris.gff\" has the wrong phase . -> correcting it to 0\n",
      "warning: CDS feature on line 139 in file \"MPXV_1968_Paris.gff\" has the wrong phase . -> correcting it to 0\n",
      "warning: CDS feature on line 141 in file \"MPXV_1968_Paris.gff\" has the wrong phase . -> correcting it to 0\n",
      "warning: CDS feature on line 143 in file \"MPXV_1968_Paris.gff\" has the wrong phase . -> correcting it to 0\n",
      "warning: CDS feature on line 145 in file \"MPXV_1968_Paris.gff\" has the wrong phase . -> correcting it to 0\n",
      "warning: CDS feature on line 147 in file \"MPXV_1968_Paris.gff\" has the wrong phase . -> correcting it to 0\n",
      "warning: CDS feature on line 149 in file \"MPXV_1968_Paris.gff\" has the wrong phase . -> correcting it to 0\n",
      "warning: CDS feature on line 151 in file \"MPXV_1968_Paris.gff\" has the wrong phase . -> correcting it to 0\n",
      "warning: CDS feature on line 153 in file \"MPXV_1968_Paris.gff\" has the wrong phase . -> correcting it to 0\n",
      "warning: CDS feature on line 155 in file \"MPXV_1968_Paris.gff\" has the wrong phase . -> correcting it to 0\n",
      "warning: CDS feature on line 157 in file \"MPXV_1968_Paris.gff\" has the wrong phase . -> correcting it to 0\n",
      "warning: CDS feature on line 159 in file \"MPXV_1968_Paris.gff\" has the wrong phase . -> correcting it to 0\n",
      "warning: CDS feature on line 161 in file \"MPXV_1968_Paris.gff\" has the wrong phase . -> correcting it to 0\n",
      "warning: CDS feature on line 163 in file \"MPXV_1968_Paris.gff\" has the wrong phase . -> correcting it to 0\n",
      "warning: CDS feature on line 165 in file \"MPXV_1968_Paris.gff\" has the wrong phase . -> correcting it to 0\n",
      "warning: CDS feature on line 167 in file \"MPXV_1968_Paris.gff\" has the wrong phase . -> correcting it to 0\n",
      "warning: CDS feature on line 169 in file \"MPXV_1968_Paris.gff\" has the wrong phase . -> correcting it to 0\n",
      "warning: CDS feature on line 171 in file \"MPXV_1968_Paris.gff\" has the wrong phase . -> correcting it to 0\n",
      "warning: CDS feature on line 173 in file \"MPXV_1968_Paris.gff\" has the wrong phase . -> correcting it to 0\n",
      "warning: CDS feature on line 175 in file \"MPXV_1968_Paris.gff\" has the wrong phase . -> correcting it to 0\n",
      "warning: CDS feature on line 177 in file \"MPXV_1968_Paris.gff\" has the wrong phase . -> correcting it to 0\n",
      "warning: CDS feature on line 179 in file \"MPXV_1968_Paris.gff\" has the wrong phase . -> correcting it to 0\n",
      "warning: CDS feature on line 181 in file \"MPXV_1968_Paris.gff\" has the wrong phase . -> correcting it to 0\n",
      "warning: CDS feature on line 183 in file \"MPXV_1968_Paris.gff\" has the wrong phase . -> correcting it to 0\n",
      "warning: CDS feature on line 185 in file \"MPXV_1968_Paris.gff\" has the wrong phase . -> correcting it to 0\n",
      "warning: CDS feature on line 187 in file \"MPXV_1968_Paris.gff\" has the wrong phase . -> correcting it to 0\n",
      "warning: CDS feature on line 189 in file \"MPXV_1968_Paris.gff\" has the wrong phase . -> correcting it to 0\n",
      "warning: CDS feature on line 191 in file \"MPXV_1968_Paris.gff\" has the wrong phase . -> correcting it to 0\n",
      "warning: CDS feature on line 193 in file \"MPXV_1968_Paris.gff\" has the wrong phase . -> correcting it to 0\n",
      "warning: CDS feature on line 195 in file \"MPXV_1968_Paris.gff\" has the wrong phase . -> correcting it to 0\n",
      "warning: CDS feature on line 197 in file \"MPXV_1968_Paris.gff\" has the wrong phase . -> correcting it to 0\n",
      "warning: CDS feature on line 199 in file \"MPXV_1968_Paris.gff\" has the wrong phase . -> correcting it to 0\n",
      "warning: CDS feature on line 201 in file \"MPXV_1968_Paris.gff\" has the wrong phase . -> correcting it to 0\n",
      "warning: CDS feature on line 203 in file \"MPXV_1968_Paris.gff\" has the wrong phase . -> correcting it to 0\n",
      "warning: CDS feature on line 205 in file \"MPXV_1968_Paris.gff\" has the wrong phase . -> correcting it to 0\n",
      "warning: CDS feature on line 207 in file \"MPXV_1968_Paris.gff\" has the wrong phase . -> correcting it to 0\n",
      "warning: CDS feature on line 209 in file \"MPXV_1968_Paris.gff\" has the wrong phase . -> correcting it to 0\n",
      "warning: CDS feature on line 211 in file \"MPXV_1968_Paris.gff\" has the wrong phase . -> correcting it to 0\n",
      "warning: CDS feature on line 213 in file \"MPXV_1968_Paris.gff\" has the wrong phase . -> correcting it to 0\n",
      "warning: CDS feature on line 215 in file \"MPXV_1968_Paris.gff\" has the wrong phase . -> correcting it to 0\n",
      "warning: CDS feature on line 217 in file \"MPXV_1968_Paris.gff\" has the wrong phase . -> correcting it to 0\n",
      "warning: CDS feature on line 219 in file \"MPXV_1968_Paris.gff\" has the wrong phase . -> correcting it to 0\n",
      "warning: CDS feature on line 221 in file \"MPXV_1968_Paris.gff\" has the wrong phase . -> correcting it to 0\n",
      "warning: CDS feature on line 223 in file \"MPXV_1968_Paris.gff\" has the wrong phase . -> correcting it to 0\n",
      "warning: CDS feature on line 225 in file \"MPXV_1968_Paris.gff\" has the wrong phase . -> correcting it to 0\n",
      "warning: CDS feature on line 227 in file \"MPXV_1968_Paris.gff\" has the wrong phase . -> correcting it to 0\n",
      "warning: CDS feature on line 229 in file \"MPXV_1968_Paris.gff\" has the wrong phase . -> correcting it to 0\n",
      "warning: CDS feature on line 231 in file \"MPXV_1968_Paris.gff\" has the wrong phase . -> correcting it to 0\n",
      "warning: CDS feature on line 233 in file \"MPXV_1968_Paris.gff\" has the wrong phase . -> correcting it to 0\n",
      "warning: CDS feature on line 235 in file \"MPXV_1968_Paris.gff\" has the wrong phase . -> correcting it to 0\n",
      "warning: CDS feature on line 237 in file \"MPXV_1968_Paris.gff\" has the wrong phase . -> correcting it to 0\n",
      "warning: CDS feature on line 239 in file \"MPXV_1968_Paris.gff\" has the wrong phase . -> correcting it to 0\n",
      "warning: CDS feature on line 241 in file \"MPXV_1968_Paris.gff\" has the wrong phase . -> correcting it to 0\n",
      "warning: CDS feature on line 243 in file \"MPXV_1968_Paris.gff\" has the wrong phase . -> correcting it to 0\n",
      "warning: CDS feature on line 245 in file \"MPXV_1968_Paris.gff\" has the wrong phase . -> correcting it to 0\n",
      "warning: CDS feature on line 247 in file \"MPXV_1968_Paris.gff\" has the wrong phase . -> correcting it to 0\n",
      "warning: CDS feature on line 249 in file \"MPXV_1968_Paris.gff\" has the wrong phase . -> correcting it to 0\n",
      "warning: CDS feature on line 251 in file \"MPXV_1968_Paris.gff\" has the wrong phase . -> correcting it to 0\n",
      "warning: CDS feature on line 253 in file \"MPXV_1968_Paris.gff\" has the wrong phase . -> correcting it to 0\n",
      "warning: CDS feature on line 255 in file \"MPXV_1968_Paris.gff\" has the wrong phase . -> correcting it to 0\n",
      "warning: CDS feature on line 257 in file \"MPXV_1968_Paris.gff\" has the wrong phase . -> correcting it to 0\n",
      "warning: CDS feature on line 259 in file \"MPXV_1968_Paris.gff\" has the wrong phase . -> correcting it to 0\n",
      "warning: CDS feature on line 261 in file \"MPXV_1968_Paris.gff\" has the wrong phase . -> correcting it to 0\n",
      "warning: CDS feature on line 263 in file \"MPXV_1968_Paris.gff\" has the wrong phase . -> correcting it to 0\n",
      "warning: CDS feature on line 265 in file \"MPXV_1968_Paris.gff\" has the wrong phase . -> correcting it to 0\n",
      "warning: CDS feature on line 267 in file \"MPXV_1968_Paris.gff\" has the wrong phase . -> correcting it to 0\n",
      "warning: CDS feature on line 269 in file \"MPXV_1968_Paris.gff\" has the wrong phase . -> correcting it to 0\n",
      "warning: CDS feature on line 271 in file \"MPXV_1968_Paris.gff\" has the wrong phase . -> correcting it to 0\n",
      "warning: CDS feature on line 273 in file \"MPXV_1968_Paris.gff\" has the wrong phase . -> correcting it to 0\n",
      "warning: CDS feature on line 275 in file \"MPXV_1968_Paris.gff\" has the wrong phase . -> correcting it to 0\n",
      "warning: CDS feature on line 277 in file \"MPXV_1968_Paris.gff\" has the wrong phase . -> correcting it to 0\n",
      "warning: CDS feature on line 279 in file \"MPXV_1968_Paris.gff\" has the wrong phase . -> correcting it to 0\n",
      "warning: CDS feature on line 281 in file \"MPXV_1968_Paris.gff\" has the wrong phase . -> correcting it to 0\n",
      "warning: CDS feature on line 283 in file \"MPXV_1968_Paris.gff\" has the wrong phase . -> correcting it to 0\n",
      "warning: CDS feature on line 285 in file \"MPXV_1968_Paris.gff\" has the wrong phase . -> correcting it to 0\n",
      "warning: CDS feature on line 287 in file \"MPXV_1968_Paris.gff\" has the wrong phase . -> correcting it to 0\n",
      "warning: CDS feature on line 289 in file \"MPXV_1968_Paris.gff\" has the wrong phase . -> correcting it to 0\n",
      "warning: CDS feature on line 291 in file \"MPXV_1968_Paris.gff\" has the wrong phase . -> correcting it to 0\n",
      "warning: CDS feature on line 293 in file \"MPXV_1968_Paris.gff\" has the wrong phase . -> correcting it to 0\n",
      "warning: CDS feature on line 295 in file \"MPXV_1968_Paris.gff\" has the wrong phase . -> correcting it to 0\n",
      "warning: CDS feature on line 297 in file \"MPXV_1968_Paris.gff\" has the wrong phase . -> correcting it to 0\n",
      "warning: CDS feature on line 299 in file \"MPXV_1968_Paris.gff\" has the wrong phase . -> correcting it to 0\n",
      "warning: CDS feature on line 301 in file \"MPXV_1968_Paris.gff\" has the wrong phase . -> correcting it to 0\n",
      "warning: CDS feature on line 303 in file \"MPXV_1968_Paris.gff\" has the wrong phase . -> correcting it to 0\n",
      "warning: CDS feature on line 305 in file \"MPXV_1968_Paris.gff\" has the wrong phase . -> correcting it to 0\n",
      "warning: CDS feature on line 307 in file \"MPXV_1968_Paris.gff\" has the wrong phase . -> correcting it to 0\n",
      "warning: CDS feature on line 309 in file \"MPXV_1968_Paris.gff\" has the wrong phase . -> correcting it to 0\n",
      "warning: CDS feature on line 311 in file \"MPXV_1968_Paris.gff\" has the wrong phase . -> correcting it to 0\n",
      "warning: CDS feature on line 313 in file \"MPXV_1968_Paris.gff\" has the wrong phase . -> correcting it to 0\n",
      "warning: CDS feature on line 315 in file \"MPXV_1968_Paris.gff\" has the wrong phase . -> correcting it to 0\n",
      "warning: CDS feature on line 317 in file \"MPXV_1968_Paris.gff\" has the wrong phase . -> correcting it to 0\n",
      "warning: CDS feature on line 319 in file \"MPXV_1968_Paris.gff\" has the wrong phase . -> correcting it to 0\n",
      "warning: CDS feature on line 321 in file \"MPXV_1968_Paris.gff\" has the wrong phase . -> correcting it to 0\n",
      "warning: CDS feature on line 323 in file \"MPXV_1968_Paris.gff\" has the wrong phase . -> correcting it to 0\n",
      "warning: CDS feature on line 325 in file \"MPXV_1968_Paris.gff\" has the wrong phase . -> correcting it to 0\n",
      "warning: CDS feature on line 327 in file \"MPXV_1968_Paris.gff\" has the wrong phase . -> correcting it to 0\n",
      "warning: CDS feature on line 329 in file \"MPXV_1968_Paris.gff\" has the wrong phase . -> correcting it to 0\n",
      "warning: CDS feature on line 331 in file \"MPXV_1968_Paris.gff\" has the wrong phase . -> correcting it to 0\n",
      "warning: CDS feature on line 333 in file \"MPXV_1968_Paris.gff\" has the wrong phase . -> correcting it to 0\n",
      "warning: CDS feature on line 335 in file \"MPXV_1968_Paris.gff\" has the wrong phase . -> correcting it to 0\n",
      "warning: CDS feature on line 337 in file \"MPXV_1968_Paris.gff\" has the wrong phase . -> correcting it to 0\n",
      "warning: CDS feature on line 339 in file \"MPXV_1968_Paris.gff\" has the wrong phase . -> correcting it to 0\n",
      "warning: CDS feature on line 341 in file \"MPXV_1968_Paris.gff\" has the wrong phase . -> correcting it to 0\n",
      "warning: CDS feature on line 343 in file \"MPXV_1968_Paris.gff\" has the wrong phase . -> correcting it to 0\n",
      "warning: CDS feature on line 345 in file \"MPXV_1968_Paris.gff\" has the wrong phase . -> correcting it to 0\n",
      "warning: CDS feature on line 347 in file \"MPXV_1968_Paris.gff\" has the wrong phase . -> correcting it to 0\n",
      "warning: CDS feature on line 349 in file \"MPXV_1968_Paris.gff\" has the wrong phase . -> correcting it to 0\n",
      "warning: CDS feature on line 351 in file \"MPXV_1968_Paris.gff\" has the wrong phase . -> correcting it to 0\n",
      "warning: CDS feature on line 353 in file \"MPXV_1968_Paris.gff\" has the wrong phase . -> correcting it to 0\n",
      "warning: CDS feature on line 355 in file \"MPXV_1968_Paris.gff\" has the wrong phase . -> correcting it to 0\n",
      "warning: CDS feature on line 357 in file \"MPXV_1968_Paris.gff\" has the wrong phase . -> correcting it to 0\n",
      "warning: CDS feature on line 359 in file \"MPXV_1968_Paris.gff\" has the wrong phase . -> correcting it to 0\n",
      "warning: CDS feature on line 361 in file \"MPXV_1968_Paris.gff\" has the wrong phase . -> correcting it to 0\n",
      "warning: CDS feature on line 363 in file \"MPXV_1968_Paris.gff\" has the wrong phase . -> correcting it to 0\n",
      "warning: CDS feature on line 365 in file \"MPXV_1968_Paris.gff\" has the wrong phase . -> correcting it to 0\n",
      "warning: CDS feature on line 367 in file \"MPXV_1968_Paris.gff\" has the wrong phase . -> correcting it to 0\n",
      "warning: CDS feature on line 369 in file \"MPXV_1968_Paris.gff\" has the wrong phase . -> correcting it to 0\n",
      "warning: CDS feature on line 371 in file \"MPXV_1968_Paris.gff\" has the wrong phase . -> correcting it to 0\n",
      "warning: CDS feature on line 373 in file \"MPXV_1968_Paris.gff\" has the wrong phase . -> correcting it to 0\n",
      "warning: CDS feature on line 375 in file \"MPXV_1968_Paris.gff\" has the wrong phase . -> correcting it to 0\n",
      "warning: CDS feature on line 377 in file \"MPXV_1968_Paris.gff\" has the wrong phase . -> correcting it to 0\n",
      "warning: seqid \"DQ011156.1\" on line 4 in file \"MPXV_1970_Libera.gff\" has not been previously introduced with a \"##sequence-region\" line, create such a line automatically\n",
      "warning: CDS feature on line 5 in file \"MPXV_1970_Libera.gff\" has the wrong phase . -> correcting it to 0\n",
      "warning: CDS feature on line 7 in file \"MPXV_1970_Libera.gff\" has the wrong phase . -> correcting it to 0\n",
      "warning: CDS feature on line 9 in file \"MPXV_1970_Libera.gff\" has the wrong phase . -> correcting it to 0\n",
      "warning: CDS feature on line 11 in file \"MPXV_1970_Libera.gff\" has the wrong phase . -> correcting it to 0\n",
      "warning: CDS feature on line 13 in file \"MPXV_1970_Libera.gff\" has the wrong phase . -> correcting it to 0\n",
      "warning: CDS feature on line 15 in file \"MPXV_1970_Libera.gff\" has the wrong phase . -> correcting it to 0\n",
      "warning: CDS feature on line 17 in file \"MPXV_1970_Libera.gff\" has the wrong phase . -> correcting it to 0\n",
      "warning: CDS feature on line 19 in file \"MPXV_1970_Libera.gff\" has the wrong phase . -> correcting it to 0\n",
      "warning: CDS feature on line 21 in file \"MPXV_1970_Libera.gff\" has the wrong phase . -> correcting it to 0\n",
      "warning: CDS feature on line 23 in file \"MPXV_1970_Libera.gff\" has the wrong phase . -> correcting it to 0\n",
      "warning: CDS feature on line 25 in file \"MPXV_1970_Libera.gff\" has the wrong phase . -> correcting it to 0\n",
      "warning: CDS feature on line 27 in file \"MPXV_1970_Libera.gff\" has the wrong phase . -> correcting it to 0\n",
      "warning: CDS feature on line 29 in file \"MPXV_1970_Libera.gff\" has the wrong phase . -> correcting it to 0\n",
      "warning: CDS feature on line 31 in file \"MPXV_1970_Libera.gff\" has the wrong phase . -> correcting it to 0\n",
      "warning: CDS feature on line 33 in file \"MPXV_1970_Libera.gff\" has the wrong phase . -> correcting it to 0\n",
      "warning: CDS feature on line 35 in file \"MPXV_1970_Libera.gff\" has the wrong phase . -> correcting it to 0\n",
      "warning: CDS feature on line 37 in file \"MPXV_1970_Libera.gff\" has the wrong phase . -> correcting it to 0\n",
      "warning: CDS feature on line 39 in file \"MPXV_1970_Libera.gff\" has the wrong phase . -> correcting it to 0\n",
      "warning: CDS feature on line 41 in file \"MPXV_1970_Libera.gff\" has the wrong phase . -> correcting it to 0\n",
      "warning: CDS feature on line 43 in file \"MPXV_1970_Libera.gff\" has the wrong phase . -> correcting it to 0\n",
      "warning: CDS feature on line 45 in file \"MPXV_1970_Libera.gff\" has the wrong phase . -> correcting it to 0\n",
      "warning: CDS feature on line 47 in file \"MPXV_1970_Libera.gff\" has the wrong phase . -> correcting it to 0\n",
      "warning: CDS feature on line 49 in file \"MPXV_1970_Libera.gff\" has the wrong phase . -> correcting it to 0\n",
      "warning: CDS feature on line 51 in file \"MPXV_1970_Libera.gff\" has the wrong phase . -> correcting it to 0\n",
      "warning: CDS feature on line 53 in file \"MPXV_1970_Libera.gff\" has the wrong phase . -> correcting it to 0\n",
      "warning: CDS feature on line 55 in file \"MPXV_1970_Libera.gff\" has the wrong phase . -> correcting it to 0\n",
      "warning: CDS feature on line 57 in file \"MPXV_1970_Libera.gff\" has the wrong phase . -> correcting it to 0\n",
      "warning: CDS feature on line 59 in file \"MPXV_1970_Libera.gff\" has the wrong phase . -> correcting it to 0\n",
      "warning: CDS feature on line 61 in file \"MPXV_1970_Libera.gff\" has the wrong phase . -> correcting it to 0\n",
      "warning: CDS feature on line 63 in file \"MPXV_1970_Libera.gff\" has the wrong phase . -> correcting it to 0\n",
      "warning: CDS feature on line 65 in file \"MPXV_1970_Libera.gff\" has the wrong phase . -> correcting it to 0\n",
      "warning: CDS feature on line 67 in file \"MPXV_1970_Libera.gff\" has the wrong phase . -> correcting it to 0\n",
      "warning: CDS feature on line 69 in file \"MPXV_1970_Libera.gff\" has the wrong phase . -> correcting it to 0\n",
      "warning: CDS feature on line 71 in file \"MPXV_1970_Libera.gff\" has the wrong phase . -> correcting it to 0\n",
      "warning: CDS feature on line 73 in file \"MPXV_1970_Libera.gff\" has the wrong phase . -> correcting it to 0\n",
      "warning: CDS feature on line 75 in file \"MPXV_1970_Libera.gff\" has the wrong phase . -> correcting it to 0\n",
      "warning: CDS feature on line 77 in file \"MPXV_1970_Libera.gff\" has the wrong phase . -> correcting it to 0\n",
      "warning: CDS feature on line 79 in file \"MPXV_1970_Libera.gff\" has the wrong phase . -> correcting it to 0\n",
      "warning: CDS feature on line 81 in file \"MPXV_1970_Libera.gff\" has the wrong phase . -> correcting it to 0\n",
      "warning: CDS feature on line 83 in file \"MPXV_1970_Libera.gff\" has the wrong phase . -> correcting it to 0\n",
      "warning: CDS feature on line 85 in file \"MPXV_1970_Libera.gff\" has the wrong phase . -> correcting it to 0\n",
      "warning: CDS feature on line 87 in file \"MPXV_1970_Libera.gff\" has the wrong phase . -> correcting it to 0\n",
      "warning: CDS feature on line 89 in file \"MPXV_1970_Libera.gff\" has the wrong phase . -> correcting it to 0\n",
      "warning: CDS feature on line 91 in file \"MPXV_1970_Libera.gff\" has the wrong phase . -> correcting it to 0\n",
      "warning: CDS feature on line 93 in file \"MPXV_1970_Libera.gff\" has the wrong phase . -> correcting it to 0\n",
      "warning: CDS feature on line 95 in file \"MPXV_1970_Libera.gff\" has the wrong phase . -> correcting it to 0\n",
      "warning: CDS feature on line 97 in file \"MPXV_1970_Libera.gff\" has the wrong phase . -> correcting it to 0\n",
      "warning: CDS feature on line 99 in file \"MPXV_1970_Libera.gff\" has the wrong phase . -> correcting it to 0\n",
      "warning: CDS feature on line 101 in file \"MPXV_1970_Libera.gff\" has the wrong phase . -> correcting it to 0\n",
      "warning: CDS feature on line 103 in file \"MPXV_1970_Libera.gff\" has the wrong phase . -> correcting it to 0\n",
      "warning: CDS feature on line 105 in file \"MPXV_1970_Libera.gff\" has the wrong phase . -> correcting it to 0\n",
      "warning: CDS feature on line 107 in file \"MPXV_1970_Libera.gff\" has the wrong phase . -> correcting it to 0\n",
      "warning: CDS feature on line 109 in file \"MPXV_1970_Libera.gff\" has the wrong phase . -> correcting it to 0\n",
      "warning: CDS feature on line 111 in file \"MPXV_1970_Libera.gff\" has the wrong phase . -> correcting it to 0\n",
      "warning: CDS feature on line 113 in file \"MPXV_1970_Libera.gff\" has the wrong phase . -> correcting it to 0\n",
      "warning: CDS feature on line 115 in file \"MPXV_1970_Libera.gff\" has the wrong phase . -> correcting it to 0\n",
      "warning: CDS feature on line 117 in file \"MPXV_1970_Libera.gff\" has the wrong phase . -> correcting it to 0\n",
      "warning: CDS feature on line 119 in file \"MPXV_1970_Libera.gff\" has the wrong phase . -> correcting it to 0\n",
      "warning: CDS feature on line 121 in file \"MPXV_1970_Libera.gff\" has the wrong phase . -> correcting it to 0\n",
      "warning: CDS feature on line 123 in file \"MPXV_1970_Libera.gff\" has the wrong phase . -> correcting it to 0\n",
      "warning: CDS feature on line 125 in file \"MPXV_1970_Libera.gff\" has the wrong phase . -> correcting it to 0\n",
      "warning: CDS feature on line 127 in file \"MPXV_1970_Libera.gff\" has the wrong phase . -> correcting it to 0\n",
      "warning: CDS feature on line 129 in file \"MPXV_1970_Libera.gff\" has the wrong phase . -> correcting it to 0\n",
      "warning: CDS feature on line 131 in file \"MPXV_1970_Libera.gff\" has the wrong phase . -> correcting it to 0\n",
      "warning: CDS feature on line 133 in file \"MPXV_1970_Libera.gff\" has the wrong phase . -> correcting it to 0\n",
      "warning: CDS feature on line 135 in file \"MPXV_1970_Libera.gff\" has the wrong phase . -> correcting it to 0\n",
      "warning: CDS feature on line 137 in file \"MPXV_1970_Libera.gff\" has the wrong phase . -> correcting it to 0\n",
      "warning: CDS feature on line 139 in file \"MPXV_1970_Libera.gff\" has the wrong phase . -> correcting it to 0\n",
      "warning: CDS feature on line 141 in file \"MPXV_1970_Libera.gff\" has the wrong phase . -> correcting it to 0\n",
      "warning: CDS feature on line 143 in file \"MPXV_1970_Libera.gff\" has the wrong phase . -> correcting it to 0\n",
      "warning: CDS feature on line 145 in file \"MPXV_1970_Libera.gff\" has the wrong phase . -> correcting it to 0\n",
      "warning: CDS feature on line 147 in file \"MPXV_1970_Libera.gff\" has the wrong phase . -> correcting it to 0\n",
      "warning: CDS feature on line 149 in file \"MPXV_1970_Libera.gff\" has the wrong phase . -> correcting it to 0\n",
      "warning: CDS feature on line 151 in file \"MPXV_1970_Libera.gff\" has the wrong phase . -> correcting it to 0\n",
      "warning: CDS feature on line 153 in file \"MPXV_1970_Libera.gff\" has the wrong phase . -> correcting it to 0\n",
      "warning: CDS feature on line 155 in file \"MPXV_1970_Libera.gff\" has the wrong phase . -> correcting it to 0\n",
      "warning: CDS feature on line 157 in file \"MPXV_1970_Libera.gff\" has the wrong phase . -> correcting it to 0\n",
      "warning: CDS feature on line 159 in file \"MPXV_1970_Libera.gff\" has the wrong phase . -> correcting it to 0\n",
      "warning: CDS feature on line 161 in file \"MPXV_1970_Libera.gff\" has the wrong phase . -> correcting it to 0\n",
      "warning: CDS feature on line 163 in file \"MPXV_1970_Libera.gff\" has the wrong phase . -> correcting it to 0\n",
      "warning: CDS feature on line 165 in file \"MPXV_1970_Libera.gff\" has the wrong phase . -> correcting it to 0\n",
      "warning: CDS feature on line 167 in file \"MPXV_1970_Libera.gff\" has the wrong phase . -> correcting it to 0\n",
      "warning: CDS feature on line 169 in file \"MPXV_1970_Libera.gff\" has the wrong phase . -> correcting it to 0\n",
      "warning: CDS feature on line 171 in file \"MPXV_1970_Libera.gff\" has the wrong phase . -> correcting it to 0\n",
      "warning: CDS feature on line 173 in file \"MPXV_1970_Libera.gff\" has the wrong phase . -> correcting it to 0\n",
      "warning: CDS feature on line 175 in file \"MPXV_1970_Libera.gff\" has the wrong phase . -> correcting it to 0\n",
      "warning: CDS feature on line 177 in file \"MPXV_1970_Libera.gff\" has the wrong phase . -> correcting it to 0\n",
      "warning: CDS feature on line 179 in file \"MPXV_1970_Libera.gff\" has the wrong phase . -> correcting it to 0\n",
      "warning: CDS feature on line 181 in file \"MPXV_1970_Libera.gff\" has the wrong phase . -> correcting it to 0\n",
      "warning: CDS feature on line 183 in file \"MPXV_1970_Libera.gff\" has the wrong phase . -> correcting it to 0\n",
      "warning: CDS feature on line 185 in file \"MPXV_1970_Libera.gff\" has the wrong phase . -> correcting it to 0\n",
      "warning: CDS feature on line 187 in file \"MPXV_1970_Libera.gff\" has the wrong phase . -> correcting it to 0\n",
      "warning: CDS feature on line 189 in file \"MPXV_1970_Libera.gff\" has the wrong phase . -> correcting it to 0\n",
      "warning: CDS feature on line 191 in file \"MPXV_1970_Libera.gff\" has the wrong phase . -> correcting it to 0\n",
      "warning: CDS feature on line 193 in file \"MPXV_1970_Libera.gff\" has the wrong phase . -> correcting it to 0\n",
      "warning: CDS feature on line 195 in file \"MPXV_1970_Libera.gff\" has the wrong phase . -> correcting it to 0\n",
      "warning: CDS feature on line 197 in file \"MPXV_1970_Libera.gff\" has the wrong phase . -> correcting it to 0\n",
      "warning: CDS feature on line 199 in file \"MPXV_1970_Libera.gff\" has the wrong phase . -> correcting it to 0\n",
      "warning: CDS feature on line 201 in file \"MPXV_1970_Libera.gff\" has the wrong phase . -> correcting it to 0\n",
      "warning: CDS feature on line 203 in file \"MPXV_1970_Libera.gff\" has the wrong phase . -> correcting it to 0\n",
      "warning: CDS feature on line 205 in file \"MPXV_1970_Libera.gff\" has the wrong phase . -> correcting it to 0\n",
      "warning: CDS feature on line 207 in file \"MPXV_1970_Libera.gff\" has the wrong phase . -> correcting it to 0\n",
      "warning: CDS feature on line 209 in file \"MPXV_1970_Libera.gff\" has the wrong phase . -> correcting it to 0\n",
      "warning: CDS feature on line 211 in file \"MPXV_1970_Libera.gff\" has the wrong phase . -> correcting it to 0\n",
      "warning: CDS feature on line 213 in file \"MPXV_1970_Libera.gff\" has the wrong phase . -> correcting it to 0\n",
      "warning: CDS feature on line 215 in file \"MPXV_1970_Libera.gff\" has the wrong phase . -> correcting it to 0\n",
      "warning: CDS feature on line 217 in file \"MPXV_1970_Libera.gff\" has the wrong phase . -> correcting it to 0\n",
      "warning: CDS feature on line 219 in file \"MPXV_1970_Libera.gff\" has the wrong phase . -> correcting it to 0\n",
      "warning: CDS feature on line 221 in file \"MPXV_1970_Libera.gff\" has the wrong phase . -> correcting it to 0\n",
      "warning: CDS feature on line 223 in file \"MPXV_1970_Libera.gff\" has the wrong phase . -> correcting it to 0\n",
      "warning: CDS feature on line 225 in file \"MPXV_1970_Libera.gff\" has the wrong phase . -> correcting it to 0\n",
      "warning: CDS feature on line 227 in file \"MPXV_1970_Libera.gff\" has the wrong phase . -> correcting it to 0\n",
      "warning: CDS feature on line 229 in file \"MPXV_1970_Libera.gff\" has the wrong phase . -> correcting it to 0\n",
      "warning: CDS feature on line 231 in file \"MPXV_1970_Libera.gff\" has the wrong phase . -> correcting it to 0\n",
      "warning: CDS feature on line 233 in file \"MPXV_1970_Libera.gff\" has the wrong phase . -> correcting it to 0\n",
      "warning: CDS feature on line 235 in file \"MPXV_1970_Libera.gff\" has the wrong phase . -> correcting it to 0\n",
      "warning: CDS feature on line 237 in file \"MPXV_1970_Libera.gff\" has the wrong phase . -> correcting it to 0\n",
      "warning: CDS feature on line 239 in file \"MPXV_1970_Libera.gff\" has the wrong phase . -> correcting it to 0\n",
      "warning: CDS feature on line 241 in file \"MPXV_1970_Libera.gff\" has the wrong phase . -> correcting it to 0\n",
      "warning: CDS feature on line 243 in file \"MPXV_1970_Libera.gff\" has the wrong phase . -> correcting it to 0\n",
      "warning: CDS feature on line 245 in file \"MPXV_1970_Libera.gff\" has the wrong phase . -> correcting it to 0\n",
      "warning: CDS feature on line 247 in file \"MPXV_1970_Libera.gff\" has the wrong phase . -> correcting it to 0\n",
      "warning: CDS feature on line 249 in file \"MPXV_1970_Libera.gff\" has the wrong phase . -> correcting it to 0\n",
      "warning: CDS feature on line 251 in file \"MPXV_1970_Libera.gff\" has the wrong phase . -> correcting it to 0\n",
      "warning: CDS feature on line 253 in file \"MPXV_1970_Libera.gff\" has the wrong phase . -> correcting it to 0\n",
      "warning: CDS feature on line 255 in file \"MPXV_1970_Libera.gff\" has the wrong phase . -> correcting it to 0\n",
      "warning: CDS feature on line 257 in file \"MPXV_1970_Libera.gff\" has the wrong phase . -> correcting it to 0\n",
      "warning: CDS feature on line 259 in file \"MPXV_1970_Libera.gff\" has the wrong phase . -> correcting it to 0\n",
      "warning: CDS feature on line 261 in file \"MPXV_1970_Libera.gff\" has the wrong phase . -> correcting it to 0\n",
      "warning: CDS feature on line 263 in file \"MPXV_1970_Libera.gff\" has the wrong phase . -> correcting it to 0\n",
      "warning: CDS feature on line 265 in file \"MPXV_1970_Libera.gff\" has the wrong phase . -> correcting it to 0\n",
      "warning: CDS feature on line 267 in file \"MPXV_1970_Libera.gff\" has the wrong phase . -> correcting it to 0\n",
      "warning: CDS feature on line 269 in file \"MPXV_1970_Libera.gff\" has the wrong phase . -> correcting it to 0\n",
      "warning: CDS feature on line 271 in file \"MPXV_1970_Libera.gff\" has the wrong phase . -> correcting it to 0\n",
      "warning: CDS feature on line 273 in file \"MPXV_1970_Libera.gff\" has the wrong phase . -> correcting it to 0\n",
      "warning: CDS feature on line 275 in file \"MPXV_1970_Libera.gff\" has the wrong phase . -> correcting it to 0\n",
      "warning: CDS feature on line 277 in file \"MPXV_1970_Libera.gff\" has the wrong phase . -> correcting it to 0\n",
      "warning: CDS feature on line 279 in file \"MPXV_1970_Libera.gff\" has the wrong phase . -> correcting it to 0\n",
      "warning: CDS feature on line 281 in file \"MPXV_1970_Libera.gff\" has the wrong phase . -> correcting it to 0\n",
      "warning: CDS feature on line 283 in file \"MPXV_1970_Libera.gff\" has the wrong phase . -> correcting it to 0\n",
      "warning: CDS feature on line 285 in file \"MPXV_1970_Libera.gff\" has the wrong phase . -> correcting it to 0\n",
      "warning: CDS feature on line 287 in file \"MPXV_1970_Libera.gff\" has the wrong phase . -> correcting it to 0\n",
      "warning: CDS feature on line 289 in file \"MPXV_1970_Libera.gff\" has the wrong phase . -> correcting it to 0\n",
      "warning: CDS feature on line 291 in file \"MPXV_1970_Libera.gff\" has the wrong phase . -> correcting it to 0\n",
      "warning: CDS feature on line 293 in file \"MPXV_1970_Libera.gff\" has the wrong phase . -> correcting it to 0\n",
      "warning: CDS feature on line 295 in file \"MPXV_1970_Libera.gff\" has the wrong phase . -> correcting it to 0\n",
      "warning: CDS feature on line 297 in file \"MPXV_1970_Libera.gff\" has the wrong phase . -> correcting it to 0\n",
      "warning: CDS feature on line 299 in file \"MPXV_1970_Libera.gff\" has the wrong phase . -> correcting it to 0\n",
      "warning: CDS feature on line 301 in file \"MPXV_1970_Libera.gff\" has the wrong phase . -> correcting it to 0\n",
      "warning: CDS feature on line 303 in file \"MPXV_1970_Libera.gff\" has the wrong phase . -> correcting it to 0\n",
      "warning: CDS feature on line 305 in file \"MPXV_1970_Libera.gff\" has the wrong phase . -> correcting it to 0\n",
      "warning: CDS feature on line 307 in file \"MPXV_1970_Libera.gff\" has the wrong phase . -> correcting it to 0\n",
      "warning: CDS feature on line 309 in file \"MPXV_1970_Libera.gff\" has the wrong phase . -> correcting it to 0\n",
      "warning: CDS feature on line 311 in file \"MPXV_1970_Libera.gff\" has the wrong phase . -> correcting it to 0\n",
      "warning: CDS feature on line 313 in file \"MPXV_1970_Libera.gff\" has the wrong phase . -> correcting it to 0\n",
      "warning: CDS feature on line 315 in file \"MPXV_1970_Libera.gff\" has the wrong phase . -> correcting it to 0\n",
      "warning: CDS feature on line 317 in file \"MPXV_1970_Libera.gff\" has the wrong phase . -> correcting it to 0\n",
      "warning: CDS feature on line 319 in file \"MPXV_1970_Libera.gff\" has the wrong phase . -> correcting it to 0\n",
      "warning: CDS feature on line 321 in file \"MPXV_1970_Libera.gff\" has the wrong phase . -> correcting it to 0\n",
      "warning: CDS feature on line 323 in file \"MPXV_1970_Libera.gff\" has the wrong phase . -> correcting it to 0\n",
      "warning: CDS feature on line 325 in file \"MPXV_1970_Libera.gff\" has the wrong phase . -> correcting it to 0\n",
      "warning: CDS feature on line 327 in file \"MPXV_1970_Libera.gff\" has the wrong phase . -> correcting it to 0\n",
      "warning: CDS feature on line 329 in file \"MPXV_1970_Libera.gff\" has the wrong phase . -> correcting it to 0\n",
      "warning: CDS feature on line 331 in file \"MPXV_1970_Libera.gff\" has the wrong phase . -> correcting it to 0\n",
      "warning: CDS feature on line 333 in file \"MPXV_1970_Libera.gff\" has the wrong phase . -> correcting it to 0\n",
      "warning: CDS feature on line 335 in file \"MPXV_1970_Libera.gff\" has the wrong phase . -> correcting it to 0\n",
      "warning: CDS feature on line 337 in file \"MPXV_1970_Libera.gff\" has the wrong phase . -> correcting it to 0\n",
      "warning: CDS feature on line 339 in file \"MPXV_1970_Libera.gff\" has the wrong phase . -> correcting it to 0\n",
      "warning: CDS feature on line 341 in file \"MPXV_1970_Libera.gff\" has the wrong phase . -> correcting it to 0\n",
      "warning: CDS feature on line 343 in file \"MPXV_1970_Libera.gff\" has the wrong phase . -> correcting it to 0\n",
      "warning: CDS feature on line 345 in file \"MPXV_1970_Libera.gff\" has the wrong phase . -> correcting it to 0\n",
      "warning: CDS feature on line 347 in file \"MPXV_1970_Libera.gff\" has the wrong phase . -> correcting it to 0\n",
      "warning: CDS feature on line 349 in file \"MPXV_1970_Libera.gff\" has the wrong phase . -> correcting it to 0\n",
      "warning: CDS feature on line 351 in file \"MPXV_1970_Libera.gff\" has the wrong phase . -> correcting it to 0\n",
      "warning: CDS feature on line 353 in file \"MPXV_1970_Libera.gff\" has the wrong phase . -> correcting it to 0\n",
      "warning: CDS feature on line 355 in file \"MPXV_1970_Libera.gff\" has the wrong phase . -> correcting it to 0\n",
      "warning: CDS feature on line 357 in file \"MPXV_1970_Libera.gff\" has the wrong phase . -> correcting it to 0\n",
      "warning: CDS feature on line 359 in file \"MPXV_1970_Libera.gff\" has the wrong phase . -> correcting it to 0\n",
      "warning: CDS feature on line 361 in file \"MPXV_1970_Libera.gff\" has the wrong phase . -> correcting it to 0\n",
      "warning: CDS feature on line 363 in file \"MPXV_1970_Libera.gff\" has the wrong phase . -> correcting it to 0\n",
      "warning: CDS feature on line 365 in file \"MPXV_1970_Libera.gff\" has the wrong phase . -> correcting it to 0\n",
      "warning: CDS feature on line 367 in file \"MPXV_1970_Libera.gff\" has the wrong phase . -> correcting it to 0\n",
      "warning: CDS feature on line 369 in file \"MPXV_1970_Libera.gff\" has the wrong phase . -> correcting it to 0\n",
      "warning: CDS feature on line 371 in file \"MPXV_1970_Libera.gff\" has the wrong phase . -> correcting it to 0\n",
      "warning: CDS feature on line 373 in file \"MPXV_1970_Libera.gff\" has the wrong phase . -> correcting it to 0\n",
      "warning: CDS feature on line 375 in file \"MPXV_1970_Libera.gff\" has the wrong phase . -> correcting it to 0\n",
      "warning: CDS feature on line 377 in file \"MPXV_1970_Libera.gff\" has the wrong phase . -> correcting it to 0\n",
      "\u001b[?2004h(genometools) "
     ]
    },
    {
     "ename": "",
     "evalue": "1",
     "output_type": "error",
     "traceback": []
    }
   ],
   "source": [
    "for genomes in *.gff\n",
    "  do\n",
    "  name=$(basename -s \".gff\" $genomes)\n",
    "  gt gff3 -sortlines -tidy -retainids $genomes > $name\\.sorted.gff\n",
    "  done"
   ]
  },
  {
   "cell_type": "code",
   "execution_count": 12,
   "id": "41e7b67a-4cbd-49be-ba80-eefab8e3c331",
   "metadata": {},
   "outputs": [
    {
     "name": "stdout",
     "output_type": "stream",
     "text": [
      "\u001b[?2004h(genometools) 4l\u001b[?2004l"
     ]
    },
    {
     "ename": "",
     "evalue": "1",
     "output_type": "error",
     "traceback": []
    }
   ],
   "source": [
    "for genome in *.sorted.gff\n",
    "  do\n",
    "  bgzip $genome\n",
    "  done"
   ]
  },
  {
   "cell_type": "code",
   "execution_count": 13,
   "id": "2fe1568c-2eed-4113-b97e-cd42b52c15aa",
   "metadata": {},
   "outputs": [
    {
     "name": "stdout",
     "output_type": "stream",
     "text": [
      "\u001b[?2004h(genometools) 4l\u001b[?2004l"
     ]
    },
    {
     "ename": "",
     "evalue": "1",
     "output_type": "error",
     "traceback": []
    }
   ],
   "source": [
    "for genome in *.sorted.gff.gz\n",
    "  do\n",
    "  tabix $genome\n",
    "  done"
   ]
  },
  {
   "cell_type": "code",
   "execution_count": 14,
   "id": "56b49677-629d-41c1-8fe2-e434f8aadf54",
   "metadata": {},
   "outputs": [
    {
     "name": "stdout",
     "output_type": "stream",
     "text": [
      "Added track with name \"MPXV_1968_Paris.sorted.gff\" and trackId \"MPXV_1968_Paris.sorted.gff\" to ./config.json\n",
      "Added track with name \"MPXV_1970_Libera.sorted.gff\" and trackId \"MPXV_1970_Libera.sorted.gff\" to ./config.json\n",
      "\u001b[?2004h(genometools) "
     ]
    },
    {
     "ename": "",
     "evalue": "1",
     "output_type": "error",
     "traceback": []
    }
   ],
   "source": [
    "for sortedgff in *.sorted.gff.gz\n",
    "  do \n",
    "  name=$(basename -s \".sorted.gff.gz\" $sortedgff)\n",
    "  jbrowse add-track $sortedgff -a $name --out . --load inPlace  \n",
    "  done"
   ]
  },
  {
   "cell_type": "code",
   "execution_count": 15,
   "id": "131f5f2b-4265-44de-8c7a-e0c4bd423fee",
   "metadata": {},
   "outputs": [
    {
     "name": "stdout",
     "output_type": "stream",
     "text": [
      "\u001b[31mERROR: Cannot copy server address to clipboard: Couldn't find the `xsel` binary and fallback didn't work. On Debian/Ubuntu you can install xsel with: sudo apt install xsel.\u001b[39m\n",
      "\u001b[32m\u001b[39m\n",
      "\u001b[32m   ┌───────────────────────────────────────────────────┐\u001b[39m\n",
      "   \u001b[32m│\u001b[39m                                                   \u001b[32m│\u001b[39m\n",
      "   \u001b[32m│\u001b[39m   \u001b[32mServing!\u001b[39m                                        \u001b[32m│\u001b[39m\n",
      "   \u001b[32m│\u001b[39m                                                   \u001b[32m│\u001b[39m\n",
      "   \u001b[32m│\u001b[39m   \u001b[1m- Local:\u001b[22m            http://localhost:3000       \u001b[32m│\u001b[39m\n",
      "   \u001b[32m│\u001b[39m   \u001b[1m- On Your Network:\u001b[22m  http://172.31.82.230:3000   \u001b[32m│\u001b[39m\n",
      "   \u001b[32m│\u001b[39m                                                   \u001b[32m│\u001b[39m\n",
      "\u001b[32m   └───────────────────────────────────────────────────┘\u001b[39m\n",
      "\u001b[32m\u001b[39m\n",
      "\n",
      "\u001b[35mINFO: Gracefully shutting down. Please wait...\u001b[39m\n",
      "\n",
      "\u001b[?2004h(genometools) "
     ]
    }
   ],
   "source": [
    "npx serve ."
   ]
  }
 ],
 "metadata": {
  "kernelspec": {
   "display_name": "Bash",
   "language": "bash",
   "name": "bash"
  },
  "language_info": {
   "codemirror_mode": "shell",
   "file_extension": ".sh",
   "mimetype": "text/x-sh",
   "name": "bash"
  }
 },
 "nbformat": 4,
 "nbformat_minor": 5
}
